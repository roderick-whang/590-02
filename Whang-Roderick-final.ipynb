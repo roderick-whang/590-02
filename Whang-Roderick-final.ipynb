{
 "cells": [
  {
   "cell_type": "markdown",
   "metadata": {},
   "source": [
    "# 590-02 Final Project\n",
    "\n",
    "## Roderick Whang (rjw34)"
   ]
  },
  {
   "cell_type": "markdown",
   "metadata": {},
   "source": [
    "## 30-Day Readmission"
   ]
  },
  {
   "cell_type": "markdown",
   "metadata": {},
   "source": [
    "A hospital readmission is an situation when a patient who had been discharged from a hospital is readmitted within a specified time interval. \n",
    "Readmission rates have increasingly been used as an outcome measure in health services research and as a quality benchmark for health systems. Higher readmission rate means ineffectiveness of treatment during the hospitalizations. Hospital readmission rates were formally included in reimbursement decisions for the Centers for Medicare and Medicaid Services (CMS) as part of the Patient Protection and Affordable Care Act (ACA) of 2010, which penalizes health systems with higher than expected readmission rates through the Hospital Readmission Reduction Program. Due to this penalty, there have been other programs that have been introduced, with the aim to decrease hospital readmission. The most common time frame is within 30-day of discharge, and this is what CMS uses.\n",
    "To predict 30-day readmission, I use 3 datasets, ADIMISSIONS.csv, PATIENTS.csv, ICUSTAYS.csv from MIMIC-III Clinical Database Demo (https://physionet.org/content/mimiciii-demo/1.4/)"
   ]
  },
  {
   "cell_type": "code",
   "execution_count": 1,
   "metadata": {},
   "outputs": [],
   "source": [
    "import pandas as pd\n",
    "import numpy as np\n",
    "import string\n",
    "import re\n",
    "import matplotlib.pyplot as plt\n",
    "import seaborn as sns\n",
    "from sklearn.preprocessing import LabelEncoder\n",
    "from sklearn.model_selection import train_test_split\n",
    "from sklearn.metrics import roc_auc_score\n",
    "from sklearn.linear_model import LogisticRegression\n",
    "from sklearn.model_selection import cross_val_score\n",
    "from sklearn.metrics import confusion_matrix\n",
    "from sklearn.metrics import roc_curve\n",
    "from sklearn.metrics import accuracy_score, precision_score, recall_score, f1_score\n",
    "from sklearn.metrics import precision_recall_curve, auc\n",
    "from sklearn.metrics import classification_report\n",
    "from sklearn.ensemble import RandomForestClassifier\n",
    "from sklearn.model_selection import GridSearchCV"
   ]
  },
  {
   "cell_type": "markdown",
   "metadata": {},
   "source": [
    "## 1. Datasets"
   ]
  },
  {
   "cell_type": "markdown",
   "metadata": {},
   "source": [
    "These are datasets for this project."
   ]
  },
  {
   "cell_type": "code",
   "execution_count": 2,
   "metadata": {},
   "outputs": [],
   "source": [
    "df1 = pd.read_csv('ADMISSIONS.csv')\n",
    "df2 = pd.read_csv('PATIENTS.csv')\n",
    "df3 = pd.read_csv('ICUSTAYS.csv')"
   ]
  },
  {
   "cell_type": "code",
   "execution_count": 3,
   "metadata": {},
   "outputs": [
    {
     "data": {
      "text/html": [
       "<div>\n",
       "<style scoped>\n",
       "    .dataframe tbody tr th:only-of-type {\n",
       "        vertical-align: middle;\n",
       "    }\n",
       "\n",
       "    .dataframe tbody tr th {\n",
       "        vertical-align: top;\n",
       "    }\n",
       "\n",
       "    .dataframe thead th {\n",
       "        text-align: right;\n",
       "    }\n",
       "</style>\n",
       "<table border=\"1\" class=\"dataframe\">\n",
       "  <thead>\n",
       "    <tr style=\"text-align: right;\">\n",
       "      <th></th>\n",
       "      <th>ROW_ID</th>\n",
       "      <th>SUBJECT_ID</th>\n",
       "      <th>HADM_ID</th>\n",
       "      <th>ADMITTIME</th>\n",
       "      <th>DISCHTIME</th>\n",
       "      <th>DEATHTIME</th>\n",
       "      <th>ADMISSION_TYPE</th>\n",
       "      <th>ADMISSION_LOCATION</th>\n",
       "      <th>DISCHARGE_LOCATION</th>\n",
       "      <th>INSURANCE</th>\n",
       "      <th>LANGUAGE</th>\n",
       "      <th>RELIGION</th>\n",
       "      <th>MARITAL_STATUS</th>\n",
       "      <th>ETHNICITY</th>\n",
       "      <th>EDREGTIME</th>\n",
       "      <th>EDOUTTIME</th>\n",
       "      <th>DIAGNOSIS</th>\n",
       "      <th>HOSPITAL_EXPIRE_FLAG</th>\n",
       "      <th>HAS_CHARTEVENTS_DATA</th>\n",
       "    </tr>\n",
       "  </thead>\n",
       "  <tbody>\n",
       "    <tr>\n",
       "      <th>0</th>\n",
       "      <td>21</td>\n",
       "      <td>22</td>\n",
       "      <td>165315</td>\n",
       "      <td>2196-04-09 12:26:00</td>\n",
       "      <td>2196-04-10 15:54:00</td>\n",
       "      <td>NaN</td>\n",
       "      <td>EMERGENCY</td>\n",
       "      <td>EMERGENCY ROOM ADMIT</td>\n",
       "      <td>DISC-TRAN CANCER/CHLDRN H</td>\n",
       "      <td>Private</td>\n",
       "      <td>NaN</td>\n",
       "      <td>UNOBTAINABLE</td>\n",
       "      <td>MARRIED</td>\n",
       "      <td>WHITE</td>\n",
       "      <td>2196-04-09 10:06:00</td>\n",
       "      <td>2196-04-09 13:24:00</td>\n",
       "      <td>BENZODIAZEPINE OVERDOSE</td>\n",
       "      <td>0</td>\n",
       "      <td>1</td>\n",
       "    </tr>\n",
       "    <tr>\n",
       "      <th>1</th>\n",
       "      <td>22</td>\n",
       "      <td>23</td>\n",
       "      <td>152223</td>\n",
       "      <td>2153-09-03 07:15:00</td>\n",
       "      <td>2153-09-08 19:10:00</td>\n",
       "      <td>NaN</td>\n",
       "      <td>ELECTIVE</td>\n",
       "      <td>PHYS REFERRAL/NORMAL DELI</td>\n",
       "      <td>HOME HEALTH CARE</td>\n",
       "      <td>Medicare</td>\n",
       "      <td>NaN</td>\n",
       "      <td>CATHOLIC</td>\n",
       "      <td>MARRIED</td>\n",
       "      <td>WHITE</td>\n",
       "      <td>NaN</td>\n",
       "      <td>NaN</td>\n",
       "      <td>CORONARY ARTERY DISEASE\\CORONARY ARTERY BYPASS...</td>\n",
       "      <td>0</td>\n",
       "      <td>1</td>\n",
       "    </tr>\n",
       "    <tr>\n",
       "      <th>2</th>\n",
       "      <td>23</td>\n",
       "      <td>23</td>\n",
       "      <td>124321</td>\n",
       "      <td>2157-10-18 19:34:00</td>\n",
       "      <td>2157-10-25 14:00:00</td>\n",
       "      <td>NaN</td>\n",
       "      <td>EMERGENCY</td>\n",
       "      <td>TRANSFER FROM HOSP/EXTRAM</td>\n",
       "      <td>HOME HEALTH CARE</td>\n",
       "      <td>Medicare</td>\n",
       "      <td>ENGL</td>\n",
       "      <td>CATHOLIC</td>\n",
       "      <td>MARRIED</td>\n",
       "      <td>WHITE</td>\n",
       "      <td>NaN</td>\n",
       "      <td>NaN</td>\n",
       "      <td>BRAIN MASS</td>\n",
       "      <td>0</td>\n",
       "      <td>1</td>\n",
       "    </tr>\n",
       "    <tr>\n",
       "      <th>3</th>\n",
       "      <td>24</td>\n",
       "      <td>24</td>\n",
       "      <td>161859</td>\n",
       "      <td>2139-06-06 16:14:00</td>\n",
       "      <td>2139-06-09 12:48:00</td>\n",
       "      <td>NaN</td>\n",
       "      <td>EMERGENCY</td>\n",
       "      <td>TRANSFER FROM HOSP/EXTRAM</td>\n",
       "      <td>HOME</td>\n",
       "      <td>Private</td>\n",
       "      <td>NaN</td>\n",
       "      <td>PROTESTANT QUAKER</td>\n",
       "      <td>SINGLE</td>\n",
       "      <td>WHITE</td>\n",
       "      <td>NaN</td>\n",
       "      <td>NaN</td>\n",
       "      <td>INTERIOR MYOCARDIAL INFARCTION</td>\n",
       "      <td>0</td>\n",
       "      <td>1</td>\n",
       "    </tr>\n",
       "    <tr>\n",
       "      <th>4</th>\n",
       "      <td>25</td>\n",
       "      <td>25</td>\n",
       "      <td>129635</td>\n",
       "      <td>2160-11-02 02:06:00</td>\n",
       "      <td>2160-11-05 14:55:00</td>\n",
       "      <td>NaN</td>\n",
       "      <td>EMERGENCY</td>\n",
       "      <td>EMERGENCY ROOM ADMIT</td>\n",
       "      <td>HOME</td>\n",
       "      <td>Private</td>\n",
       "      <td>NaN</td>\n",
       "      <td>UNOBTAINABLE</td>\n",
       "      <td>MARRIED</td>\n",
       "      <td>WHITE</td>\n",
       "      <td>2160-11-02 01:01:00</td>\n",
       "      <td>2160-11-02 04:27:00</td>\n",
       "      <td>ACUTE CORONARY SYNDROME</td>\n",
       "      <td>0</td>\n",
       "      <td>1</td>\n",
       "    </tr>\n",
       "  </tbody>\n",
       "</table>\n",
       "</div>"
      ],
      "text/plain": [
       "   ROW_ID  SUBJECT_ID  HADM_ID            ADMITTIME            DISCHTIME  \\\n",
       "0      21          22   165315  2196-04-09 12:26:00  2196-04-10 15:54:00   \n",
       "1      22          23   152223  2153-09-03 07:15:00  2153-09-08 19:10:00   \n",
       "2      23          23   124321  2157-10-18 19:34:00  2157-10-25 14:00:00   \n",
       "3      24          24   161859  2139-06-06 16:14:00  2139-06-09 12:48:00   \n",
       "4      25          25   129635  2160-11-02 02:06:00  2160-11-05 14:55:00   \n",
       "\n",
       "  DEATHTIME ADMISSION_TYPE         ADMISSION_LOCATION  \\\n",
       "0       NaN      EMERGENCY       EMERGENCY ROOM ADMIT   \n",
       "1       NaN       ELECTIVE  PHYS REFERRAL/NORMAL DELI   \n",
       "2       NaN      EMERGENCY  TRANSFER FROM HOSP/EXTRAM   \n",
       "3       NaN      EMERGENCY  TRANSFER FROM HOSP/EXTRAM   \n",
       "4       NaN      EMERGENCY       EMERGENCY ROOM ADMIT   \n",
       "\n",
       "          DISCHARGE_LOCATION INSURANCE LANGUAGE           RELIGION  \\\n",
       "0  DISC-TRAN CANCER/CHLDRN H   Private      NaN       UNOBTAINABLE   \n",
       "1           HOME HEALTH CARE  Medicare      NaN           CATHOLIC   \n",
       "2           HOME HEALTH CARE  Medicare     ENGL           CATHOLIC   \n",
       "3                       HOME   Private      NaN  PROTESTANT QUAKER   \n",
       "4                       HOME   Private      NaN       UNOBTAINABLE   \n",
       "\n",
       "  MARITAL_STATUS ETHNICITY            EDREGTIME            EDOUTTIME  \\\n",
       "0        MARRIED     WHITE  2196-04-09 10:06:00  2196-04-09 13:24:00   \n",
       "1        MARRIED     WHITE                  NaN                  NaN   \n",
       "2        MARRIED     WHITE                  NaN                  NaN   \n",
       "3         SINGLE     WHITE                  NaN                  NaN   \n",
       "4        MARRIED     WHITE  2160-11-02 01:01:00  2160-11-02 04:27:00   \n",
       "\n",
       "                                           DIAGNOSIS  HOSPITAL_EXPIRE_FLAG  \\\n",
       "0                            BENZODIAZEPINE OVERDOSE                     0   \n",
       "1  CORONARY ARTERY DISEASE\\CORONARY ARTERY BYPASS...                     0   \n",
       "2                                         BRAIN MASS                     0   \n",
       "3                     INTERIOR MYOCARDIAL INFARCTION                     0   \n",
       "4                            ACUTE CORONARY SYNDROME                     0   \n",
       "\n",
       "   HAS_CHARTEVENTS_DATA  \n",
       "0                     1  \n",
       "1                     1  \n",
       "2                     1  \n",
       "3                     1  \n",
       "4                     1  "
      ]
     },
     "execution_count": 3,
     "metadata": {},
     "output_type": "execute_result"
    }
   ],
   "source": [
    "# ADIMISSIONS\n",
    "df1.head(5)"
   ]
  },
  {
   "cell_type": "code",
   "execution_count": 4,
   "metadata": {},
   "outputs": [
    {
     "data": {
      "text/html": [
       "<div>\n",
       "<style scoped>\n",
       "    .dataframe tbody tr th:only-of-type {\n",
       "        vertical-align: middle;\n",
       "    }\n",
       "\n",
       "    .dataframe tbody tr th {\n",
       "        vertical-align: top;\n",
       "    }\n",
       "\n",
       "    .dataframe thead th {\n",
       "        text-align: right;\n",
       "    }\n",
       "</style>\n",
       "<table border=\"1\" class=\"dataframe\">\n",
       "  <thead>\n",
       "    <tr style=\"text-align: right;\">\n",
       "      <th></th>\n",
       "      <th>ROW_ID</th>\n",
       "      <th>SUBJECT_ID</th>\n",
       "      <th>GENDER</th>\n",
       "      <th>DOB</th>\n",
       "      <th>DOD</th>\n",
       "      <th>DOD_HOSP</th>\n",
       "      <th>DOD_SSN</th>\n",
       "      <th>EXPIRE_FLAG</th>\n",
       "    </tr>\n",
       "  </thead>\n",
       "  <tbody>\n",
       "    <tr>\n",
       "      <th>0</th>\n",
       "      <td>234</td>\n",
       "      <td>249</td>\n",
       "      <td>F</td>\n",
       "      <td>2075-03-13 00:00:00</td>\n",
       "      <td>NaN</td>\n",
       "      <td>NaN</td>\n",
       "      <td>NaN</td>\n",
       "      <td>0</td>\n",
       "    </tr>\n",
       "    <tr>\n",
       "      <th>1</th>\n",
       "      <td>235</td>\n",
       "      <td>250</td>\n",
       "      <td>F</td>\n",
       "      <td>2164-12-27 00:00:00</td>\n",
       "      <td>2188-11-22 00:00:00</td>\n",
       "      <td>2188-11-22 00:00:00</td>\n",
       "      <td>NaN</td>\n",
       "      <td>1</td>\n",
       "    </tr>\n",
       "    <tr>\n",
       "      <th>2</th>\n",
       "      <td>236</td>\n",
       "      <td>251</td>\n",
       "      <td>M</td>\n",
       "      <td>2090-03-15 00:00:00</td>\n",
       "      <td>NaN</td>\n",
       "      <td>NaN</td>\n",
       "      <td>NaN</td>\n",
       "      <td>0</td>\n",
       "    </tr>\n",
       "    <tr>\n",
       "      <th>3</th>\n",
       "      <td>237</td>\n",
       "      <td>252</td>\n",
       "      <td>M</td>\n",
       "      <td>2078-03-06 00:00:00</td>\n",
       "      <td>NaN</td>\n",
       "      <td>NaN</td>\n",
       "      <td>NaN</td>\n",
       "      <td>0</td>\n",
       "    </tr>\n",
       "    <tr>\n",
       "      <th>4</th>\n",
       "      <td>238</td>\n",
       "      <td>253</td>\n",
       "      <td>F</td>\n",
       "      <td>2089-11-26 00:00:00</td>\n",
       "      <td>NaN</td>\n",
       "      <td>NaN</td>\n",
       "      <td>NaN</td>\n",
       "      <td>0</td>\n",
       "    </tr>\n",
       "  </tbody>\n",
       "</table>\n",
       "</div>"
      ],
      "text/plain": [
       "   ROW_ID  SUBJECT_ID GENDER                  DOB                  DOD  \\\n",
       "0     234         249      F  2075-03-13 00:00:00                  NaN   \n",
       "1     235         250      F  2164-12-27 00:00:00  2188-11-22 00:00:00   \n",
       "2     236         251      M  2090-03-15 00:00:00                  NaN   \n",
       "3     237         252      M  2078-03-06 00:00:00                  NaN   \n",
       "4     238         253      F  2089-11-26 00:00:00                  NaN   \n",
       "\n",
       "              DOD_HOSP DOD_SSN  EXPIRE_FLAG  \n",
       "0                  NaN     NaN            0  \n",
       "1  2188-11-22 00:00:00     NaN            1  \n",
       "2                  NaN     NaN            0  \n",
       "3                  NaN     NaN            0  \n",
       "4                  NaN     NaN            0  "
      ]
     },
     "execution_count": 4,
     "metadata": {},
     "output_type": "execute_result"
    }
   ],
   "source": [
    "# PATIENTS\n",
    "df2.head(5)"
   ]
  },
  {
   "cell_type": "code",
   "execution_count": 5,
   "metadata": {},
   "outputs": [
    {
     "data": {
      "text/html": [
       "<div>\n",
       "<style scoped>\n",
       "    .dataframe tbody tr th:only-of-type {\n",
       "        vertical-align: middle;\n",
       "    }\n",
       "\n",
       "    .dataframe tbody tr th {\n",
       "        vertical-align: top;\n",
       "    }\n",
       "\n",
       "    .dataframe thead th {\n",
       "        text-align: right;\n",
       "    }\n",
       "</style>\n",
       "<table border=\"1\" class=\"dataframe\">\n",
       "  <thead>\n",
       "    <tr style=\"text-align: right;\">\n",
       "      <th></th>\n",
       "      <th>ROW_ID</th>\n",
       "      <th>SUBJECT_ID</th>\n",
       "      <th>HADM_ID</th>\n",
       "      <th>ICUSTAY_ID</th>\n",
       "      <th>DBSOURCE</th>\n",
       "      <th>FIRST_CAREUNIT</th>\n",
       "      <th>LAST_CAREUNIT</th>\n",
       "      <th>FIRST_WARDID</th>\n",
       "      <th>LAST_WARDID</th>\n",
       "      <th>INTIME</th>\n",
       "      <th>OUTTIME</th>\n",
       "      <th>LOS</th>\n",
       "    </tr>\n",
       "  </thead>\n",
       "  <tbody>\n",
       "    <tr>\n",
       "      <th>0</th>\n",
       "      <td>365</td>\n",
       "      <td>268</td>\n",
       "      <td>110404</td>\n",
       "      <td>280836</td>\n",
       "      <td>carevue</td>\n",
       "      <td>MICU</td>\n",
       "      <td>MICU</td>\n",
       "      <td>52</td>\n",
       "      <td>52</td>\n",
       "      <td>2198-02-14 23:27:38</td>\n",
       "      <td>2198-02-18 05:26:11</td>\n",
       "      <td>3.2490</td>\n",
       "    </tr>\n",
       "    <tr>\n",
       "      <th>1</th>\n",
       "      <td>366</td>\n",
       "      <td>269</td>\n",
       "      <td>106296</td>\n",
       "      <td>206613</td>\n",
       "      <td>carevue</td>\n",
       "      <td>MICU</td>\n",
       "      <td>MICU</td>\n",
       "      <td>52</td>\n",
       "      <td>52</td>\n",
       "      <td>2170-11-05 11:05:29</td>\n",
       "      <td>2170-11-08 17:46:57</td>\n",
       "      <td>3.2788</td>\n",
       "    </tr>\n",
       "    <tr>\n",
       "      <th>2</th>\n",
       "      <td>367</td>\n",
       "      <td>270</td>\n",
       "      <td>188028</td>\n",
       "      <td>220345</td>\n",
       "      <td>carevue</td>\n",
       "      <td>CCU</td>\n",
       "      <td>CCU</td>\n",
       "      <td>57</td>\n",
       "      <td>57</td>\n",
       "      <td>2128-06-24 15:05:20</td>\n",
       "      <td>2128-06-27 12:32:29</td>\n",
       "      <td>2.8939</td>\n",
       "    </tr>\n",
       "    <tr>\n",
       "      <th>3</th>\n",
       "      <td>368</td>\n",
       "      <td>271</td>\n",
       "      <td>173727</td>\n",
       "      <td>249196</td>\n",
       "      <td>carevue</td>\n",
       "      <td>MICU</td>\n",
       "      <td>SICU</td>\n",
       "      <td>52</td>\n",
       "      <td>23</td>\n",
       "      <td>2120-08-07 23:12:42</td>\n",
       "      <td>2120-08-10 00:39:04</td>\n",
       "      <td>2.0600</td>\n",
       "    </tr>\n",
       "    <tr>\n",
       "      <th>4</th>\n",
       "      <td>369</td>\n",
       "      <td>272</td>\n",
       "      <td>164716</td>\n",
       "      <td>210407</td>\n",
       "      <td>carevue</td>\n",
       "      <td>CCU</td>\n",
       "      <td>CCU</td>\n",
       "      <td>57</td>\n",
       "      <td>57</td>\n",
       "      <td>2186-12-25 21:08:04</td>\n",
       "      <td>2186-12-27 12:01:13</td>\n",
       "      <td>1.6202</td>\n",
       "    </tr>\n",
       "  </tbody>\n",
       "</table>\n",
       "</div>"
      ],
      "text/plain": [
       "   ROW_ID  SUBJECT_ID  HADM_ID  ICUSTAY_ID DBSOURCE FIRST_CAREUNIT  \\\n",
       "0     365         268   110404      280836  carevue           MICU   \n",
       "1     366         269   106296      206613  carevue           MICU   \n",
       "2     367         270   188028      220345  carevue            CCU   \n",
       "3     368         271   173727      249196  carevue           MICU   \n",
       "4     369         272   164716      210407  carevue            CCU   \n",
       "\n",
       "  LAST_CAREUNIT  FIRST_WARDID  LAST_WARDID               INTIME  \\\n",
       "0          MICU            52           52  2198-02-14 23:27:38   \n",
       "1          MICU            52           52  2170-11-05 11:05:29   \n",
       "2           CCU            57           57  2128-06-24 15:05:20   \n",
       "3          SICU            52           23  2120-08-07 23:12:42   \n",
       "4           CCU            57           57  2186-12-25 21:08:04   \n",
       "\n",
       "               OUTTIME     LOS  \n",
       "0  2198-02-18 05:26:11  3.2490  \n",
       "1  2170-11-08 17:46:57  3.2788  \n",
       "2  2128-06-27 12:32:29  2.8939  \n",
       "3  2120-08-10 00:39:04  2.0600  \n",
       "4  2186-12-27 12:01:13  1.6202  "
      ]
     },
     "execution_count": 5,
     "metadata": {},
     "output_type": "execute_result"
    }
   ],
   "source": [
    "# ICUSTAYS\n",
    "df3.head(5)"
   ]
  },
  {
   "cell_type": "code",
   "execution_count": 6,
   "metadata": {},
   "outputs": [
    {
     "data": {
      "text/plain": [
       "(58976, 19)"
      ]
     },
     "execution_count": 6,
     "metadata": {},
     "output_type": "execute_result"
    }
   ],
   "source": [
    "df1.shape"
   ]
  },
  {
   "cell_type": "code",
   "execution_count": 7,
   "metadata": {},
   "outputs": [
    {
     "data": {
      "text/plain": [
       "(46520, 8)"
      ]
     },
     "execution_count": 7,
     "metadata": {},
     "output_type": "execute_result"
    }
   ],
   "source": [
    "df2.shape"
   ]
  },
  {
   "cell_type": "code",
   "execution_count": 8,
   "metadata": {},
   "outputs": [
    {
     "data": {
      "text/plain": [
       "(61532, 12)"
      ]
     },
     "execution_count": 8,
     "metadata": {},
     "output_type": "execute_result"
    }
   ],
   "source": [
    "df3.shape"
   ]
  },
  {
   "cell_type": "markdown",
   "metadata": {},
   "source": [
    "Merge ADMISSIONS, PATIENTS and ICUSTAYS datasets upon SUBJECT_ID"
   ]
  },
  {
   "cell_type": "code",
   "execution_count": 9,
   "metadata": {},
   "outputs": [],
   "source": [
    "df4 = pd.merge(df1,df2,on='SUBJECT_ID')"
   ]
  },
  {
   "cell_type": "code",
   "execution_count": 10,
   "metadata": {},
   "outputs": [],
   "source": [
    "df = pd.merge(df4,df3,on='SUBJECT_ID')"
   ]
  },
  {
   "cell_type": "markdown",
   "metadata": {},
   "source": [
    "## 2. Exploratory Data Analysis"
   ]
  },
  {
   "cell_type": "code",
   "execution_count": 11,
   "metadata": {},
   "outputs": [
    {
     "data": {
      "text/plain": [
       "(116426, 37)"
      ]
     },
     "execution_count": 11,
     "metadata": {},
     "output_type": "execute_result"
    }
   ],
   "source": [
    "df.shape"
   ]
  },
  {
   "cell_type": "code",
   "execution_count": 12,
   "metadata": {},
   "outputs": [
    {
     "data": {
      "text/html": [
       "<div>\n",
       "<style scoped>\n",
       "    .dataframe tbody tr th:only-of-type {\n",
       "        vertical-align: middle;\n",
       "    }\n",
       "\n",
       "    .dataframe tbody tr th {\n",
       "        vertical-align: top;\n",
       "    }\n",
       "\n",
       "    .dataframe thead th {\n",
       "        text-align: right;\n",
       "    }\n",
       "</style>\n",
       "<table border=\"1\" class=\"dataframe\">\n",
       "  <thead>\n",
       "    <tr style=\"text-align: right;\">\n",
       "      <th></th>\n",
       "      <th>ROW_ID_x</th>\n",
       "      <th>SUBJECT_ID</th>\n",
       "      <th>HADM_ID_x</th>\n",
       "      <th>ADMITTIME</th>\n",
       "      <th>DISCHTIME</th>\n",
       "      <th>DEATHTIME</th>\n",
       "      <th>ADMISSION_TYPE</th>\n",
       "      <th>ADMISSION_LOCATION</th>\n",
       "      <th>DISCHARGE_LOCATION</th>\n",
       "      <th>INSURANCE</th>\n",
       "      <th>...</th>\n",
       "      <th>HADM_ID_y</th>\n",
       "      <th>ICUSTAY_ID</th>\n",
       "      <th>DBSOURCE</th>\n",
       "      <th>FIRST_CAREUNIT</th>\n",
       "      <th>LAST_CAREUNIT</th>\n",
       "      <th>FIRST_WARDID</th>\n",
       "      <th>LAST_WARDID</th>\n",
       "      <th>INTIME</th>\n",
       "      <th>OUTTIME</th>\n",
       "      <th>LOS</th>\n",
       "    </tr>\n",
       "  </thead>\n",
       "  <tbody>\n",
       "    <tr>\n",
       "      <th>0</th>\n",
       "      <td>21</td>\n",
       "      <td>22</td>\n",
       "      <td>165315</td>\n",
       "      <td>2196-04-09 12:26:00</td>\n",
       "      <td>2196-04-10 15:54:00</td>\n",
       "      <td>NaN</td>\n",
       "      <td>EMERGENCY</td>\n",
       "      <td>EMERGENCY ROOM ADMIT</td>\n",
       "      <td>DISC-TRAN CANCER/CHLDRN H</td>\n",
       "      <td>Private</td>\n",
       "      <td>...</td>\n",
       "      <td>165315</td>\n",
       "      <td>204798</td>\n",
       "      <td>carevue</td>\n",
       "      <td>MICU</td>\n",
       "      <td>MICU</td>\n",
       "      <td>52</td>\n",
       "      <td>52</td>\n",
       "      <td>2196-04-09 12:27:00</td>\n",
       "      <td>2196-04-10 15:54:00</td>\n",
       "      <td>1.1438</td>\n",
       "    </tr>\n",
       "    <tr>\n",
       "      <th>1</th>\n",
       "      <td>22</td>\n",
       "      <td>23</td>\n",
       "      <td>152223</td>\n",
       "      <td>2153-09-03 07:15:00</td>\n",
       "      <td>2153-09-08 19:10:00</td>\n",
       "      <td>NaN</td>\n",
       "      <td>ELECTIVE</td>\n",
       "      <td>PHYS REFERRAL/NORMAL DELI</td>\n",
       "      <td>HOME HEALTH CARE</td>\n",
       "      <td>Medicare</td>\n",
       "      <td>...</td>\n",
       "      <td>152223</td>\n",
       "      <td>227807</td>\n",
       "      <td>carevue</td>\n",
       "      <td>CSRU</td>\n",
       "      <td>CSRU</td>\n",
       "      <td>14</td>\n",
       "      <td>14</td>\n",
       "      <td>2153-09-03 09:38:55</td>\n",
       "      <td>2153-09-04 15:59:11</td>\n",
       "      <td>1.2641</td>\n",
       "    </tr>\n",
       "    <tr>\n",
       "      <th>2</th>\n",
       "      <td>22</td>\n",
       "      <td>23</td>\n",
       "      <td>152223</td>\n",
       "      <td>2153-09-03 07:15:00</td>\n",
       "      <td>2153-09-08 19:10:00</td>\n",
       "      <td>NaN</td>\n",
       "      <td>ELECTIVE</td>\n",
       "      <td>PHYS REFERRAL/NORMAL DELI</td>\n",
       "      <td>HOME HEALTH CARE</td>\n",
       "      <td>Medicare</td>\n",
       "      <td>...</td>\n",
       "      <td>124321</td>\n",
       "      <td>234044</td>\n",
       "      <td>metavision</td>\n",
       "      <td>SICU</td>\n",
       "      <td>SICU</td>\n",
       "      <td>57</td>\n",
       "      <td>57</td>\n",
       "      <td>2157-10-21 11:40:38</td>\n",
       "      <td>2157-10-22 16:08:48</td>\n",
       "      <td>1.1862</td>\n",
       "    </tr>\n",
       "    <tr>\n",
       "      <th>3</th>\n",
       "      <td>23</td>\n",
       "      <td>23</td>\n",
       "      <td>124321</td>\n",
       "      <td>2157-10-18 19:34:00</td>\n",
       "      <td>2157-10-25 14:00:00</td>\n",
       "      <td>NaN</td>\n",
       "      <td>EMERGENCY</td>\n",
       "      <td>TRANSFER FROM HOSP/EXTRAM</td>\n",
       "      <td>HOME HEALTH CARE</td>\n",
       "      <td>Medicare</td>\n",
       "      <td>...</td>\n",
       "      <td>152223</td>\n",
       "      <td>227807</td>\n",
       "      <td>carevue</td>\n",
       "      <td>CSRU</td>\n",
       "      <td>CSRU</td>\n",
       "      <td>14</td>\n",
       "      <td>14</td>\n",
       "      <td>2153-09-03 09:38:55</td>\n",
       "      <td>2153-09-04 15:59:11</td>\n",
       "      <td>1.2641</td>\n",
       "    </tr>\n",
       "    <tr>\n",
       "      <th>4</th>\n",
       "      <td>23</td>\n",
       "      <td>23</td>\n",
       "      <td>124321</td>\n",
       "      <td>2157-10-18 19:34:00</td>\n",
       "      <td>2157-10-25 14:00:00</td>\n",
       "      <td>NaN</td>\n",
       "      <td>EMERGENCY</td>\n",
       "      <td>TRANSFER FROM HOSP/EXTRAM</td>\n",
       "      <td>HOME HEALTH CARE</td>\n",
       "      <td>Medicare</td>\n",
       "      <td>...</td>\n",
       "      <td>124321</td>\n",
       "      <td>234044</td>\n",
       "      <td>metavision</td>\n",
       "      <td>SICU</td>\n",
       "      <td>SICU</td>\n",
       "      <td>57</td>\n",
       "      <td>57</td>\n",
       "      <td>2157-10-21 11:40:38</td>\n",
       "      <td>2157-10-22 16:08:48</td>\n",
       "      <td>1.1862</td>\n",
       "    </tr>\n",
       "  </tbody>\n",
       "</table>\n",
       "<p>5 rows × 37 columns</p>\n",
       "</div>"
      ],
      "text/plain": [
       "   ROW_ID_x  SUBJECT_ID  HADM_ID_x            ADMITTIME            DISCHTIME  \\\n",
       "0        21          22     165315  2196-04-09 12:26:00  2196-04-10 15:54:00   \n",
       "1        22          23     152223  2153-09-03 07:15:00  2153-09-08 19:10:00   \n",
       "2        22          23     152223  2153-09-03 07:15:00  2153-09-08 19:10:00   \n",
       "3        23          23     124321  2157-10-18 19:34:00  2157-10-25 14:00:00   \n",
       "4        23          23     124321  2157-10-18 19:34:00  2157-10-25 14:00:00   \n",
       "\n",
       "  DEATHTIME ADMISSION_TYPE         ADMISSION_LOCATION  \\\n",
       "0       NaN      EMERGENCY       EMERGENCY ROOM ADMIT   \n",
       "1       NaN       ELECTIVE  PHYS REFERRAL/NORMAL DELI   \n",
       "2       NaN       ELECTIVE  PHYS REFERRAL/NORMAL DELI   \n",
       "3       NaN      EMERGENCY  TRANSFER FROM HOSP/EXTRAM   \n",
       "4       NaN      EMERGENCY  TRANSFER FROM HOSP/EXTRAM   \n",
       "\n",
       "          DISCHARGE_LOCATION INSURANCE  ... HADM_ID_y ICUSTAY_ID    DBSOURCE  \\\n",
       "0  DISC-TRAN CANCER/CHLDRN H   Private  ...    165315     204798     carevue   \n",
       "1           HOME HEALTH CARE  Medicare  ...    152223     227807     carevue   \n",
       "2           HOME HEALTH CARE  Medicare  ...    124321     234044  metavision   \n",
       "3           HOME HEALTH CARE  Medicare  ...    152223     227807     carevue   \n",
       "4           HOME HEALTH CARE  Medicare  ...    124321     234044  metavision   \n",
       "\n",
       "  FIRST_CAREUNIT LAST_CAREUNIT FIRST_WARDID LAST_WARDID               INTIME  \\\n",
       "0           MICU          MICU           52          52  2196-04-09 12:27:00   \n",
       "1           CSRU          CSRU           14          14  2153-09-03 09:38:55   \n",
       "2           SICU          SICU           57          57  2157-10-21 11:40:38   \n",
       "3           CSRU          CSRU           14          14  2153-09-03 09:38:55   \n",
       "4           SICU          SICU           57          57  2157-10-21 11:40:38   \n",
       "\n",
       "               OUTTIME     LOS  \n",
       "0  2196-04-10 15:54:00  1.1438  \n",
       "1  2153-09-04 15:59:11  1.2641  \n",
       "2  2157-10-22 16:08:48  1.1862  \n",
       "3  2153-09-04 15:59:11  1.2641  \n",
       "4  2157-10-22 16:08:48  1.1862  \n",
       "\n",
       "[5 rows x 37 columns]"
      ]
     },
     "execution_count": 12,
     "metadata": {},
     "output_type": "execute_result"
    }
   ],
   "source": [
    "df.head()"
   ]
  },
  {
   "cell_type": "code",
   "execution_count": 13,
   "metadata": {},
   "outputs": [
    {
     "name": "stdout",
     "output_type": "stream",
     "text": [
      "Number of unique patient ids: 46476\n"
     ]
    }
   ],
   "source": [
    "print('Number of unique patient ids: {}'.format(len(df.SUBJECT_ID.unique())))"
   ]
  },
  {
   "cell_type": "code",
   "execution_count": 14,
   "metadata": {},
   "outputs": [
    {
     "data": {
      "text/plain": [
       "Text(0, 0.5, '')"
      ]
     },
     "execution_count": 14,
     "metadata": {},
     "output_type": "execute_result"
    },
    {
     "data": {
      "image/png": "[encoded data removed]",
      "text/plain": [
       "<Figure size 504x504 with 1 Axes>"
      ]
     },
     "metadata": {},
     "output_type": "display_data"
    }
   ],
   "source": [
    "fig = plt.figure(figsize=(7,7))\n",
    "df.GENDER.value_counts().plot.pie(startangle = 90, autopct='%1.1f%%')\n",
    "plt.title('Gender split, raw data')\n",
    "plt.ylabel('')\n"
   ]
  },
  {
   "cell_type": "code",
   "execution_count": 15,
   "metadata": {},
   "outputs": [
    {
     "data": {
      "text/plain": [
       "Text(0, 0.5, '')"
      ]
     },
     "execution_count": 15,
     "metadata": {},
     "output_type": "execute_result"
    },
    {
     "data": {
      "image/png": "[encoded data removed]",
      "text/plain": [
       "<Figure size 504x504 with 1 Axes>"
      ]
     },
     "metadata": {},
     "output_type": "display_data"
    }
   ],
   "source": [
    "fig = plt.figure(figsize=(7,7))\n",
    "df.MARITAL_STATUS.value_counts().plot.pie(startangle = 0, autopct='%1.1f%%')\n",
    "plt.title('Marital status split, raw data')\n",
    "plt.ylabel('')"
   ]
  },
  {
   "cell_type": "code",
   "execution_count": 16,
   "metadata": {},
   "outputs": [
    {
     "data": {
      "text/plain": [
       "Text(0, 0.5, '')"
      ]
     },
     "execution_count": 16,
     "metadata": {},
     "output_type": "execute_result"
    },
    {
     "data": {
      "image/png": "[encoded data removed]",
      "text/plain": [
       "<Figure size 504x504 with 1 Axes>"
      ]
     },
     "metadata": {},
     "output_type": "display_data"
    }
   ],
   "source": [
    "fig = plt.figure(figsize=(7,7))\n",
    "df.INSURANCE.value_counts().plot.pie(startangle = 0, autopct='%1.1f%%')\n",
    "plt.title('Insurance provider split, raw data')\n",
    "plt.ylabel('')"
   ]
  },
  {
   "cell_type": "code",
   "execution_count": 17,
   "metadata": {},
   "outputs": [
    {
     "data": {
      "text/plain": [
       "Text(0, 0.5, '')"
      ]
     },
     "execution_count": 17,
     "metadata": {},
     "output_type": "execute_result"
    },
    {
     "data": {
      "image/png": "[encoded data removed]",
      "text/plain": [
       "<Figure size 504x504 with 1 Axes>"
      ]
     },
     "metadata": {},
     "output_type": "display_data"
    }
   ],
   "source": [
    "fig = plt.figure(figsize=(7,7))\n",
    "df.LAST_CAREUNIT.value_counts().plot.pie(startangle = 0, autopct='%1.1f%%')\n",
    "plt.title('Last Care Unit split, raw data')\n",
    "plt.ylabel('')"
   ]
  },
  {
   "cell_type": "code",
   "execution_count": 18,
   "metadata": {},
   "outputs": [
    {
     "data": {
      "text/plain": [
       "MICU     53935\n",
       "SICU     16891\n",
       "CCU      14804\n",
       "CSRU     13491\n",
       "TSICU     8833\n",
       "NICU      8472\n",
       "Name: LAST_CAREUNIT, dtype: int64"
      ]
     },
     "execution_count": 18,
     "metadata": {},
     "output_type": "execute_result"
    }
   ],
   "source": [
    "df.LAST_CAREUNIT.value_counts()"
   ]
  },
  {
   "cell_type": "markdown",
   "metadata": {},
   "source": [
    "## 3. Preprocessing"
   ]
  },
  {
   "cell_type": "markdown",
   "metadata": {},
   "source": [
    "### 3-1. Extract readmission time information"
   ]
  },
  {
   "cell_type": "code",
   "execution_count": 19,
   "metadata": {},
   "outputs": [],
   "source": [
    "df['DISCHTIME'] = df['DISCHTIME'].astype('datetime64[ns]')\n",
    "df['ADMITTIME'] = df['ADMITTIME'].astype('datetime64[ns]')"
   ]
  },
  {
   "cell_type": "code",
   "execution_count": 20,
   "metadata": {},
   "outputs": [],
   "source": [
    "# calculate time delta between subsequent readmissions of the same patient \n",
    "df['readmit_dt'] = np.zeros(df.shape[0])\n",
    "df['next_readmit_dt'] = np.zeros(df.shape[0])"
   ]
  },
  {
   "cell_type": "code",
   "execution_count": 21,
   "metadata": {},
   "outputs": [],
   "source": [
    "for idx in np.arange(1,df.shape[0]):\n",
    "    if df.SUBJECT_ID[idx] == df.SUBJECT_ID[idx - 1]:     \n",
    "        prev_disch = df.DISCHTIME[idx-1]\n",
    "        curr_adm = df.ADMITTIME[idx]\n",
    "        dt = curr_adm - prev_disch\n",
    "        dt_hrs_calc = np.round(dt.value/3600.0/1e9,2)\n",
    "\n",
    "        df.at[idx, 'readmit_dt'] = dt_hrs_calc\n",
    "        df.at[idx-1, 'next_readmit_dt'] = dt_hrs_calc"
   ]
  },
  {
   "cell_type": "markdown",
   "metadata": {},
   "source": [
    "#### Define time threshold and corresponding labels"
   ]
  },
  {
   "cell_type": "code",
   "execution_count": 22,
   "metadata": {},
   "outputs": [],
   "source": [
    "# Define threshold in hours\n",
    "threshold = 30*24\n",
    "df['future_readmit'] = None\n",
    "df['future_readmit'] = ['No' if dt == 0.0 else 'Yes' if dt>=threshold else 'No' for dt in df.next_readmit_dt]"
   ]
  },
  {
   "cell_type": "code",
   "execution_count": 23,
   "metadata": {},
   "outputs": [
    {
     "data": {
      "text/html": [
       "<div>\n",
       "<style scoped>\n",
       "    .dataframe tbody tr th:only-of-type {\n",
       "        vertical-align: middle;\n",
       "    }\n",
       "\n",
       "    .dataframe tbody tr th {\n",
       "        vertical-align: top;\n",
       "    }\n",
       "\n",
       "    .dataframe thead th {\n",
       "        text-align: right;\n",
       "    }\n",
       "</style>\n",
       "<table border=\"1\" class=\"dataframe\">\n",
       "  <thead>\n",
       "    <tr style=\"text-align: right;\">\n",
       "      <th></th>\n",
       "      <th>readmit_dt</th>\n",
       "      <th>next_readmit_dt</th>\n",
       "      <th>future_readmit</th>\n",
       "    </tr>\n",
       "  </thead>\n",
       "  <tbody>\n",
       "    <tr>\n",
       "      <th>0</th>\n",
       "      <td>0.00</td>\n",
       "      <td>0.00</td>\n",
       "      <td>No</td>\n",
       "    </tr>\n",
       "    <tr>\n",
       "      <th>1</th>\n",
       "      <td>0.00</td>\n",
       "      <td>-131.92</td>\n",
       "      <td>No</td>\n",
       "    </tr>\n",
       "    <tr>\n",
       "      <th>2</th>\n",
       "      <td>-131.92</td>\n",
       "      <td>36024.40</td>\n",
       "      <td>Yes</td>\n",
       "    </tr>\n",
       "    <tr>\n",
       "      <th>3</th>\n",
       "      <td>36024.40</td>\n",
       "      <td>-162.43</td>\n",
       "      <td>No</td>\n",
       "    </tr>\n",
       "    <tr>\n",
       "      <th>4</th>\n",
       "      <td>-162.43</td>\n",
       "      <td>0.00</td>\n",
       "      <td>No</td>\n",
       "    </tr>\n",
       "  </tbody>\n",
       "</table>\n",
       "</div>"
      ],
      "text/plain": [
       "   readmit_dt  next_readmit_dt future_readmit\n",
       "0        0.00             0.00             No\n",
       "1        0.00          -131.92             No\n",
       "2     -131.92         36024.40            Yes\n",
       "3    36024.40          -162.43             No\n",
       "4     -162.43             0.00             No"
      ]
     },
     "execution_count": 23,
     "metadata": {},
     "output_type": "execute_result"
    }
   ],
   "source": [
    "df.iloc[:,-3:].head()"
   ]
  },
  {
   "cell_type": "code",
   "execution_count": 24,
   "metadata": {},
   "outputs": [
    {
     "name": "stdout",
     "output_type": "stream",
     "text": [
      "Value counts:\n",
      "No     107436\n",
      "Yes      8990\n",
      "Name: future_readmit, dtype: int64\n",
      "\n",
      "Value proportions:\n",
      "No     0.922784\n",
      "Yes    0.077216\n",
      "Name: future_readmit, dtype: float64\n"
     ]
    }
   ],
   "source": [
    "print('Value counts:')\n",
    "print(df.future_readmit.value_counts())\n",
    " \n",
    "print ('\\nValue proportions:')\n",
    "print(df.future_readmit.value_counts()/df.shape[0])"
   ]
  },
  {
   "cell_type": "markdown",
   "metadata": {},
   "source": []
  },
  {
   "cell_type": "code",
   "execution_count": 25,
   "metadata": {
    "scrolled": true
   },
   "outputs": [
    {
     "data": {
      "text/plain": [
       "Index(['ROW_ID_x', 'SUBJECT_ID', 'HADM_ID_x', 'ADMITTIME', 'DISCHTIME',\n",
       "       'DEATHTIME', 'ADMISSION_TYPE', 'ADMISSION_LOCATION',\n",
       "       'DISCHARGE_LOCATION', 'INSURANCE', 'LANGUAGE', 'RELIGION',\n",
       "       'MARITAL_STATUS', 'ETHNICITY', 'EDREGTIME', 'EDOUTTIME', 'DIAGNOSIS',\n",
       "       'HOSPITAL_EXPIRE_FLAG', 'HAS_CHARTEVENTS_DATA', 'ROW_ID_y', 'GENDER',\n",
       "       'DOB', 'DOD', 'DOD_HOSP', 'DOD_SSN', 'EXPIRE_FLAG', 'ROW_ID',\n",
       "       'HADM_ID_y', 'ICUSTAY_ID', 'DBSOURCE', 'FIRST_CAREUNIT',\n",
       "       'LAST_CAREUNIT', 'FIRST_WARDID', 'LAST_WARDID', 'INTIME', 'OUTTIME',\n",
       "       'LOS', 'readmit_dt', 'next_readmit_dt', 'future_readmit'],\n",
       "      dtype='object')"
      ]
     },
     "execution_count": 25,
     "metadata": {},
     "output_type": "execute_result"
    }
   ],
   "source": [
    "df.columns"
   ]
  },
  {
   "cell_type": "code",
   "execution_count": 26,
   "metadata": {},
   "outputs": [],
   "source": [
    "df = df.drop(['ROW_ID_x', 'SUBJECT_ID', 'HADM_ID_x', 'ADMITTIME', 'DISCHTIME','DEATHTIME', 'EDREGTIME',\\\n",
    "              'EDOUTTIME', 'HOSPITAL_EXPIRE_FLAG', 'HAS_CHARTEVENTS_DATA', \\\n",
    "              'ROW_ID_y','DOB', 'DOD', 'DOD_HOSP', 'DOD_SSN', 'EXPIRE_FLAG',\\\n",
    "              'ROW_ID','HADM_ID_y', 'ICUSTAY_ID', 'DBSOURCE', 'FIRST_WARDID', \\\n",
    "              'LAST_WARDID', 'INTIME', 'OUTTIME','LOS','readmit_dt','next_readmit_dt'], axis = 1) "
   ]
  },
  {
   "cell_type": "markdown",
   "metadata": {},
   "source": [
    "### 3-2. Check and Clean up missing or invalid values"
   ]
  },
  {
   "cell_type": "code",
   "execution_count": 27,
   "metadata": {},
   "outputs": [
    {
     "data": {
      "text/plain": [
       "ADMISSION_TYPE            0\n",
       "ADMISSION_LOCATION        0\n",
       "DISCHARGE_LOCATION        0\n",
       "INSURANCE                 0\n",
       "LANGUAGE              39787\n",
       "RELIGION                525\n",
       "MARITAL_STATUS        10929\n",
       "ETHNICITY                 0\n",
       "DIAGNOSIS                55\n",
       "GENDER                    0\n",
       "FIRST_CAREUNIT            0\n",
       "LAST_CAREUNIT             0\n",
       "future_readmit            0\n",
       "dtype: int64"
      ]
     },
     "execution_count": 27,
     "metadata": {},
     "output_type": "execute_result"
    }
   ],
   "source": [
    "np.sum(df.isnull())"
   ]
  },
  {
   "cell_type": "code",
   "execution_count": 28,
   "metadata": {},
   "outputs": [
    {
     "name": "stdout",
     "output_type": "stream",
     "text": [
      "       ADMISSION_TYPE         ADMISSION_LOCATION         DISCHARGE_LOCATION  \\\n",
      "0           EMERGENCY       EMERGENCY ROOM ADMIT  DISC-TRAN CANCER/CHLDRN H   \n",
      "1            ELECTIVE  PHYS REFERRAL/NORMAL DELI           HOME HEALTH CARE   \n",
      "2            ELECTIVE  PHYS REFERRAL/NORMAL DELI           HOME HEALTH CARE   \n",
      "5           EMERGENCY  TRANSFER FROM HOSP/EXTRAM                       HOME   \n",
      "6           EMERGENCY       EMERGENCY ROOM ADMIT                       HOME   \n",
      "...               ...                        ...                        ...   \n",
      "116180      EMERGENCY  CLINIC REFERRAL/PREMATURE                       HOME   \n",
      "116216      EMERGENCY  TRANSFER FROM HOSP/EXTRAM                        SNF   \n",
      "116301      EMERGENCY  CLINIC REFERRAL/PREMATURE               DEAD/EXPIRED   \n",
      "116302      EMERGENCY  CLINIC REFERRAL/PREMATURE               DEAD/EXPIRED   \n",
      "116333      EMERGENCY  CLINIC REFERRAL/PREMATURE               DEAD/EXPIRED   \n",
      "\n",
      "       INSURANCE LANGUAGE           RELIGION MARITAL_STATUS  \\\n",
      "0        Private      NaN       UNOBTAINABLE        MARRIED   \n",
      "1       Medicare      NaN           CATHOLIC        MARRIED   \n",
      "2       Medicare      NaN           CATHOLIC        MARRIED   \n",
      "5        Private      NaN  PROTESTANT QUAKER         SINGLE   \n",
      "6        Private      NaN       UNOBTAINABLE        MARRIED   \n",
      "...          ...      ...                ...            ...   \n",
      "116180   Private     ENGL       UNOBTAINABLE            NaN   \n",
      "116216  Medicare     ENGL       UNOBTAINABLE            NaN   \n",
      "116301  Medicare     ENGL       UNOBTAINABLE            NaN   \n",
      "116302  Medicare     ENGL       UNOBTAINABLE            NaN   \n",
      "116333  Medicare     ENGL       UNOBTAINABLE            NaN   \n",
      "\n",
      "                    ETHNICITY  \\\n",
      "0                       WHITE   \n",
      "1                       WHITE   \n",
      "2                       WHITE   \n",
      "5                       WHITE   \n",
      "6                       WHITE   \n",
      "...                       ...   \n",
      "116180       UNABLE TO OBTAIN   \n",
      "116216  UNKNOWN/NOT SPECIFIED   \n",
      "116301  UNKNOWN/NOT SPECIFIED   \n",
      "116302  UNKNOWN/NOT SPECIFIED   \n",
      "116333       UNABLE TO OBTAIN   \n",
      "\n",
      "                                                DIAGNOSIS GENDER  \\\n",
      "0                                 BENZODIAZEPINE OVERDOSE      F   \n",
      "1       CORONARY ARTERY DISEASE\\CORONARY ARTERY BYPASS...      M   \n",
      "2       CORONARY ARTERY DISEASE\\CORONARY ARTERY BYPASS...      M   \n",
      "5                          INTERIOR MYOCARDIAL INFARCTION      M   \n",
      "6                                 ACUTE CORONARY SYNDROME      M   \n",
      "...                                                   ...    ...   \n",
      "116180                  ST ELEVATED MYOCARDIAL INFARCTION      M   \n",
      "116216                               PORTAL VEIN THROMBUS      M   \n",
      "116301                                     ACUTE LEUKEMIA      F   \n",
      "116302                                     ACUTE LEUKEMIA      F   \n",
      "116333                            SUBARACHNOID HEMORRHAGE      F   \n",
      "\n",
      "       FIRST_CAREUNIT LAST_CAREUNIT future_readmit  \n",
      "0                MICU          MICU             No  \n",
      "1                CSRU          CSRU             No  \n",
      "2                SICU          SICU            Yes  \n",
      "5                 CCU           CCU             No  \n",
      "6                 CCU           CCU             No  \n",
      "...               ...           ...            ...  \n",
      "116180            CCU           CCU             No  \n",
      "116216           SICU          SICU             No  \n",
      "116301           MICU          MICU             No  \n",
      "116302           MICU          MICU             No  \n",
      "116333          TSICU          SICU             No  \n",
      "\n",
      "[41238 rows x 13 columns]\n"
     ]
    }
   ],
   "source": [
    "is_NaN = df. isnull()\n",
    "row_has_NaN = is_NaN. any(axis=1)\n",
    "rows_with_NaN = df[row_has_NaN]\n",
    "print(rows_with_NaN)"
   ]
  },
  {
   "cell_type": "code",
   "execution_count": 29,
   "metadata": {},
   "outputs": [],
   "source": [
    "# remove null\n",
    "df = df.dropna()"
   ]
  },
  {
   "cell_type": "code",
   "execution_count": 30,
   "metadata": {},
   "outputs": [
    {
     "data": {
      "text/plain": [
       "ADMISSION_TYPE        0\n",
       "ADMISSION_LOCATION    0\n",
       "DISCHARGE_LOCATION    0\n",
       "INSURANCE             0\n",
       "LANGUAGE              0\n",
       "RELIGION              0\n",
       "MARITAL_STATUS        0\n",
       "ETHNICITY             0\n",
       "DIAGNOSIS             0\n",
       "GENDER                0\n",
       "FIRST_CAREUNIT        0\n",
       "LAST_CAREUNIT         0\n",
       "future_readmit        0\n",
       "dtype: int64"
      ]
     },
     "execution_count": 30,
     "metadata": {},
     "output_type": "execute_result"
    }
   ],
   "source": [
    "np.sum(df.isnull())"
   ]
  },
  {
   "cell_type": "markdown",
   "metadata": {},
   "source": [
    "### 3-3. Labeling categorical values"
   ]
  },
  {
   "cell_type": "code",
   "execution_count": 31,
   "metadata": {},
   "outputs": [],
   "source": [
    "df = df.astype('category')"
   ]
  },
  {
   "cell_type": "code",
   "execution_count": 32,
   "metadata": {},
   "outputs": [],
   "source": [
    "labelencoder = LabelEncoder()"
   ]
  },
  {
   "cell_type": "code",
   "execution_count": 33,
   "metadata": {},
   "outputs": [],
   "source": [
    "for col in df.columns:\n",
    "    df[col+'_cat'] = labelencoder.fit_transform(df[col])"
   ]
  },
  {
   "cell_type": "code",
   "execution_count": 34,
   "metadata": {},
   "outputs": [
    {
     "data": {
      "text/html": [
       "<div>\n",
       "<style scoped>\n",
       "    .dataframe tbody tr th:only-of-type {\n",
       "        vertical-align: middle;\n",
       "    }\n",
       "\n",
       "    .dataframe tbody tr th {\n",
       "        vertical-align: top;\n",
       "    }\n",
       "\n",
       "    .dataframe thead th {\n",
       "        text-align: right;\n",
       "    }\n",
       "</style>\n",
       "<table border=\"1\" class=\"dataframe\">\n",
       "  <thead>\n",
       "    <tr style=\"text-align: right;\">\n",
       "      <th></th>\n",
       "      <th>ADMISSION_TYPE</th>\n",
       "      <th>ADMISSION_LOCATION</th>\n",
       "      <th>DISCHARGE_LOCATION</th>\n",
       "      <th>INSURANCE</th>\n",
       "      <th>LANGUAGE</th>\n",
       "      <th>RELIGION</th>\n",
       "      <th>MARITAL_STATUS</th>\n",
       "      <th>ETHNICITY</th>\n",
       "      <th>DIAGNOSIS</th>\n",
       "      <th>GENDER</th>\n",
       "      <th>...</th>\n",
       "      <th>INSURANCE_cat</th>\n",
       "      <th>LANGUAGE_cat</th>\n",
       "      <th>RELIGION_cat</th>\n",
       "      <th>MARITAL_STATUS_cat</th>\n",
       "      <th>ETHNICITY_cat</th>\n",
       "      <th>DIAGNOSIS_cat</th>\n",
       "      <th>GENDER_cat</th>\n",
       "      <th>FIRST_CAREUNIT_cat</th>\n",
       "      <th>LAST_CAREUNIT_cat</th>\n",
       "      <th>future_readmit_cat</th>\n",
       "    </tr>\n",
       "  </thead>\n",
       "  <tbody>\n",
       "    <tr>\n",
       "      <th>3</th>\n",
       "      <td>EMERGENCY</td>\n",
       "      <td>TRANSFER FROM HOSP/EXTRAM</td>\n",
       "      <td>HOME HEALTH CARE</td>\n",
       "      <td>Medicare</td>\n",
       "      <td>ENGL</td>\n",
       "      <td>CATHOLIC</td>\n",
       "      <td>MARRIED</td>\n",
       "      <td>WHITE</td>\n",
       "      <td>BRAIN MASS</td>\n",
       "      <td>M</td>\n",
       "      <td>...</td>\n",
       "      <td>2</td>\n",
       "      <td>48</td>\n",
       "      <td>3</td>\n",
       "      <td>2</td>\n",
       "      <td>36</td>\n",
       "      <td>1674</td>\n",
       "      <td>1</td>\n",
       "      <td>1</td>\n",
       "      <td>1</td>\n",
       "      <td>0</td>\n",
       "    </tr>\n",
       "    <tr>\n",
       "      <th>4</th>\n",
       "      <td>EMERGENCY</td>\n",
       "      <td>TRANSFER FROM HOSP/EXTRAM</td>\n",
       "      <td>HOME HEALTH CARE</td>\n",
       "      <td>Medicare</td>\n",
       "      <td>ENGL</td>\n",
       "      <td>CATHOLIC</td>\n",
       "      <td>MARRIED</td>\n",
       "      <td>WHITE</td>\n",
       "      <td>BRAIN MASS</td>\n",
       "      <td>M</td>\n",
       "      <td>...</td>\n",
       "      <td>2</td>\n",
       "      <td>48</td>\n",
       "      <td>3</td>\n",
       "      <td>2</td>\n",
       "      <td>36</td>\n",
       "      <td>1674</td>\n",
       "      <td>1</td>\n",
       "      <td>4</td>\n",
       "      <td>4</td>\n",
       "      <td>0</td>\n",
       "    </tr>\n",
       "    <tr>\n",
       "      <th>14</th>\n",
       "      <td>EMERGENCY</td>\n",
       "      <td>TRANSFER FROM HOSP/EXTRAM</td>\n",
       "      <td>HOME</td>\n",
       "      <td>Medicare</td>\n",
       "      <td>ENGL</td>\n",
       "      <td>CATHOLIC</td>\n",
       "      <td>MARRIED</td>\n",
       "      <td>WHITE</td>\n",
       "      <td>CHEST PAIN\\CATH</td>\n",
       "      <td>M</td>\n",
       "      <td>...</td>\n",
       "      <td>2</td>\n",
       "      <td>48</td>\n",
       "      <td>3</td>\n",
       "      <td>2</td>\n",
       "      <td>36</td>\n",
       "      <td>2262</td>\n",
       "      <td>1</td>\n",
       "      <td>2</td>\n",
       "      <td>2</td>\n",
       "      <td>0</td>\n",
       "    </tr>\n",
       "    <tr>\n",
       "      <th>15</th>\n",
       "      <td>EMERGENCY</td>\n",
       "      <td>TRANSFER FROM HOSP/EXTRAM</td>\n",
       "      <td>HOME</td>\n",
       "      <td>Medicare</td>\n",
       "      <td>ENGL</td>\n",
       "      <td>CATHOLIC</td>\n",
       "      <td>MARRIED</td>\n",
       "      <td>WHITE</td>\n",
       "      <td>CHEST PAIN\\CATH</td>\n",
       "      <td>M</td>\n",
       "      <td>...</td>\n",
       "      <td>2</td>\n",
       "      <td>48</td>\n",
       "      <td>3</td>\n",
       "      <td>2</td>\n",
       "      <td>36</td>\n",
       "      <td>2262</td>\n",
       "      <td>1</td>\n",
       "      <td>0</td>\n",
       "      <td>0</td>\n",
       "      <td>1</td>\n",
       "    </tr>\n",
       "    <tr>\n",
       "      <th>16</th>\n",
       "      <td>EMERGENCY</td>\n",
       "      <td>CLINIC REFERRAL/PREMATURE</td>\n",
       "      <td>HOME HEALTH CARE</td>\n",
       "      <td>Medicare</td>\n",
       "      <td>ENGL</td>\n",
       "      <td>CATHOLIC</td>\n",
       "      <td>MARRIED</td>\n",
       "      <td>WHITE</td>\n",
       "      <td>BRADYCARDIA</td>\n",
       "      <td>M</td>\n",
       "      <td>...</td>\n",
       "      <td>2</td>\n",
       "      <td>48</td>\n",
       "      <td>3</td>\n",
       "      <td>2</td>\n",
       "      <td>36</td>\n",
       "      <td>1637</td>\n",
       "      <td>1</td>\n",
       "      <td>2</td>\n",
       "      <td>2</td>\n",
       "      <td>0</td>\n",
       "    </tr>\n",
       "  </tbody>\n",
       "</table>\n",
       "<p>5 rows × 26 columns</p>\n",
       "</div>"
      ],
      "text/plain": [
       "   ADMISSION_TYPE         ADMISSION_LOCATION DISCHARGE_LOCATION INSURANCE  \\\n",
       "3       EMERGENCY  TRANSFER FROM HOSP/EXTRAM   HOME HEALTH CARE  Medicare   \n",
       "4       EMERGENCY  TRANSFER FROM HOSP/EXTRAM   HOME HEALTH CARE  Medicare   \n",
       "14      EMERGENCY  TRANSFER FROM HOSP/EXTRAM               HOME  Medicare   \n",
       "15      EMERGENCY  TRANSFER FROM HOSP/EXTRAM               HOME  Medicare   \n",
       "16      EMERGENCY  CLINIC REFERRAL/PREMATURE   HOME HEALTH CARE  Medicare   \n",
       "\n",
       "   LANGUAGE  RELIGION MARITAL_STATUS ETHNICITY        DIAGNOSIS GENDER  ...  \\\n",
       "3      ENGL  CATHOLIC        MARRIED     WHITE       BRAIN MASS      M  ...   \n",
       "4      ENGL  CATHOLIC        MARRIED     WHITE       BRAIN MASS      M  ...   \n",
       "14     ENGL  CATHOLIC        MARRIED     WHITE  CHEST PAIN\\CATH      M  ...   \n",
       "15     ENGL  CATHOLIC        MARRIED     WHITE  CHEST PAIN\\CATH      M  ...   \n",
       "16     ENGL  CATHOLIC        MARRIED     WHITE      BRADYCARDIA      M  ...   \n",
       "\n",
       "   INSURANCE_cat LANGUAGE_cat RELIGION_cat  MARITAL_STATUS_cat  ETHNICITY_cat  \\\n",
       "3              2           48            3                   2             36   \n",
       "4              2           48            3                   2             36   \n",
       "14             2           48            3                   2             36   \n",
       "15             2           48            3                   2             36   \n",
       "16             2           48            3                   2             36   \n",
       "\n",
       "    DIAGNOSIS_cat  GENDER_cat  FIRST_CAREUNIT_cat  LAST_CAREUNIT_cat  \\\n",
       "3            1674           1                   1                  1   \n",
       "4            1674           1                   4                  4   \n",
       "14           2262           1                   2                  2   \n",
       "15           2262           1                   0                  0   \n",
       "16           1637           1                   2                  2   \n",
       "\n",
       "    future_readmit_cat  \n",
       "3                    0  \n",
       "4                    0  \n",
       "14                   0  \n",
       "15                   1  \n",
       "16                   0  \n",
       "\n",
       "[5 rows x 26 columns]"
      ]
     },
     "execution_count": 34,
     "metadata": {},
     "output_type": "execute_result"
    }
   ],
   "source": [
    "df.head()"
   ]
  },
  {
   "cell_type": "code",
   "execution_count": 35,
   "metadata": {},
   "outputs": [
    {
     "data": {
      "text/plain": [
       "Index(['ADMISSION_TYPE', 'ADMISSION_LOCATION', 'DISCHARGE_LOCATION',\n",
       "       'INSURANCE', 'LANGUAGE', 'RELIGION', 'MARITAL_STATUS', 'ETHNICITY',\n",
       "       'DIAGNOSIS', 'GENDER', 'FIRST_CAREUNIT', 'LAST_CAREUNIT',\n",
       "       'future_readmit', 'ADMISSION_TYPE_cat', 'ADMISSION_LOCATION_cat',\n",
       "       'DISCHARGE_LOCATION_cat', 'INSURANCE_cat', 'LANGUAGE_cat',\n",
       "       'RELIGION_cat', 'MARITAL_STATUS_cat', 'ETHNICITY_cat', 'DIAGNOSIS_cat',\n",
       "       'GENDER_cat', 'FIRST_CAREUNIT_cat', 'LAST_CAREUNIT_cat',\n",
       "       'future_readmit_cat'],\n",
       "      dtype='object')"
      ]
     },
     "execution_count": 35,
     "metadata": {},
     "output_type": "execute_result"
    }
   ],
   "source": [
    "df.keys()"
   ]
  },
  {
   "cell_type": "code",
   "execution_count": 36,
   "metadata": {},
   "outputs": [
    {
     "name": "stdout",
     "output_type": "stream",
     "text": [
      "<class 'pandas.core.frame.DataFrame'>\n",
      "Int64Index: 75188 entries, 3 to 116425\n",
      "Data columns (total 26 columns):\n",
      " #   Column                  Non-Null Count  Dtype   \n",
      "---  ------                  --------------  -----   \n",
      " 0   ADMISSION_TYPE          75188 non-null  category\n",
      " 1   ADMISSION_LOCATION      75188 non-null  category\n",
      " 2   DISCHARGE_LOCATION      75188 non-null  category\n",
      " 3   INSURANCE               75188 non-null  category\n",
      " 4   LANGUAGE                75188 non-null  category\n",
      " 5   RELIGION                75188 non-null  category\n",
      " 6   MARITAL_STATUS          75188 non-null  category\n",
      " 7   ETHNICITY               75188 non-null  category\n",
      " 8   DIAGNOSIS               75188 non-null  category\n",
      " 9   GENDER                  75188 non-null  category\n",
      " 10  FIRST_CAREUNIT          75188 non-null  category\n",
      " 11  LAST_CAREUNIT           75188 non-null  category\n",
      " 12  future_readmit          75188 non-null  category\n",
      " 13  ADMISSION_TYPE_cat      75188 non-null  int32   \n",
      " 14  ADMISSION_LOCATION_cat  75188 non-null  int32   \n",
      " 15  DISCHARGE_LOCATION_cat  75188 non-null  int32   \n",
      " 16  INSURANCE_cat           75188 non-null  int32   \n",
      " 17  LANGUAGE_cat            75188 non-null  int32   \n",
      " 18  RELIGION_cat            75188 non-null  int32   \n",
      " 19  MARITAL_STATUS_cat      75188 non-null  int32   \n",
      " 20  ETHNICITY_cat           75188 non-null  int32   \n",
      " 21  DIAGNOSIS_cat           75188 non-null  int32   \n",
      " 22  GENDER_cat              75188 non-null  int32   \n",
      " 23  FIRST_CAREUNIT_cat      75188 non-null  int32   \n",
      " 24  LAST_CAREUNIT_cat       75188 non-null  int32   \n",
      " 25  future_readmit_cat      75188 non-null  int32   \n",
      "dtypes: category(13), int32(13)\n",
      "memory usage: 5.7 MB\n"
     ]
    }
   ],
   "source": [
    "df.info()"
   ]
  },
  {
   "cell_type": "code",
   "execution_count": 37,
   "metadata": {},
   "outputs": [],
   "source": [
    "df_new = df.drop(['ADMISSION_TYPE', 'ADMISSION_LOCATION', 'DISCHARGE_LOCATION',\n",
    "       'INSURANCE', 'LANGUAGE', 'RELIGION', 'MARITAL_STATUS', 'ETHNICITY',\n",
    "       'DIAGNOSIS', 'GENDER', 'FIRST_CAREUNIT', 'LAST_CAREUNIT',\n",
    "       'future_readmit'], axis = 1)"
   ]
  },
  {
   "cell_type": "code",
   "execution_count": 38,
   "metadata": {},
   "outputs": [
    {
     "data": {
      "text/html": [
       "<div>\n",
       "<style scoped>\n",
       "    .dataframe tbody tr th:only-of-type {\n",
       "        vertical-align: middle;\n",
       "    }\n",
       "\n",
       "    .dataframe tbody tr th {\n",
       "        vertical-align: top;\n",
       "    }\n",
       "\n",
       "    .dataframe thead th {\n",
       "        text-align: right;\n",
       "    }\n",
       "</style>\n",
       "<table border=\"1\" class=\"dataframe\">\n",
       "  <thead>\n",
       "    <tr style=\"text-align: right;\">\n",
       "      <th></th>\n",
       "      <th>ADMISSION_TYPE_cat</th>\n",
       "      <th>ADMISSION_LOCATION_cat</th>\n",
       "      <th>DISCHARGE_LOCATION_cat</th>\n",
       "      <th>INSURANCE_cat</th>\n",
       "      <th>LANGUAGE_cat</th>\n",
       "      <th>RELIGION_cat</th>\n",
       "      <th>MARITAL_STATUS_cat</th>\n",
       "      <th>ETHNICITY_cat</th>\n",
       "      <th>DIAGNOSIS_cat</th>\n",
       "      <th>GENDER_cat</th>\n",
       "      <th>FIRST_CAREUNIT_cat</th>\n",
       "      <th>LAST_CAREUNIT_cat</th>\n",
       "      <th>future_readmit_cat</th>\n",
       "    </tr>\n",
       "  </thead>\n",
       "  <tbody>\n",
       "    <tr>\n",
       "      <th>3</th>\n",
       "      <td>1</td>\n",
       "      <td>5</td>\n",
       "      <td>5</td>\n",
       "      <td>2</td>\n",
       "      <td>48</td>\n",
       "      <td>3</td>\n",
       "      <td>2</td>\n",
       "      <td>36</td>\n",
       "      <td>1674</td>\n",
       "      <td>1</td>\n",
       "      <td>1</td>\n",
       "      <td>1</td>\n",
       "      <td>0</td>\n",
       "    </tr>\n",
       "    <tr>\n",
       "      <th>4</th>\n",
       "      <td>1</td>\n",
       "      <td>5</td>\n",
       "      <td>5</td>\n",
       "      <td>2</td>\n",
       "      <td>48</td>\n",
       "      <td>3</td>\n",
       "      <td>2</td>\n",
       "      <td>36</td>\n",
       "      <td>1674</td>\n",
       "      <td>1</td>\n",
       "      <td>4</td>\n",
       "      <td>4</td>\n",
       "      <td>0</td>\n",
       "    </tr>\n",
       "    <tr>\n",
       "      <th>14</th>\n",
       "      <td>1</td>\n",
       "      <td>5</td>\n",
       "      <td>4</td>\n",
       "      <td>2</td>\n",
       "      <td>48</td>\n",
       "      <td>3</td>\n",
       "      <td>2</td>\n",
       "      <td>36</td>\n",
       "      <td>2262</td>\n",
       "      <td>1</td>\n",
       "      <td>2</td>\n",
       "      <td>2</td>\n",
       "      <td>0</td>\n",
       "    </tr>\n",
       "    <tr>\n",
       "      <th>15</th>\n",
       "      <td>1</td>\n",
       "      <td>5</td>\n",
       "      <td>4</td>\n",
       "      <td>2</td>\n",
       "      <td>48</td>\n",
       "      <td>3</td>\n",
       "      <td>2</td>\n",
       "      <td>36</td>\n",
       "      <td>2262</td>\n",
       "      <td>1</td>\n",
       "      <td>0</td>\n",
       "      <td>0</td>\n",
       "      <td>1</td>\n",
       "    </tr>\n",
       "    <tr>\n",
       "      <th>16</th>\n",
       "      <td>1</td>\n",
       "      <td>1</td>\n",
       "      <td>5</td>\n",
       "      <td>2</td>\n",
       "      <td>48</td>\n",
       "      <td>3</td>\n",
       "      <td>2</td>\n",
       "      <td>36</td>\n",
       "      <td>1637</td>\n",
       "      <td>1</td>\n",
       "      <td>2</td>\n",
       "      <td>2</td>\n",
       "      <td>0</td>\n",
       "    </tr>\n",
       "  </tbody>\n",
       "</table>\n",
       "</div>"
      ],
      "text/plain": [
       "    ADMISSION_TYPE_cat  ADMISSION_LOCATION_cat  DISCHARGE_LOCATION_cat  \\\n",
       "3                    1                       5                       5   \n",
       "4                    1                       5                       5   \n",
       "14                   1                       5                       4   \n",
       "15                   1                       5                       4   \n",
       "16                   1                       1                       5   \n",
       "\n",
       "    INSURANCE_cat  LANGUAGE_cat  RELIGION_cat  MARITAL_STATUS_cat  \\\n",
       "3               2            48             3                   2   \n",
       "4               2            48             3                   2   \n",
       "14              2            48             3                   2   \n",
       "15              2            48             3                   2   \n",
       "16              2            48             3                   2   \n",
       "\n",
       "    ETHNICITY_cat  DIAGNOSIS_cat  GENDER_cat  FIRST_CAREUNIT_cat  \\\n",
       "3              36           1674           1                   1   \n",
       "4              36           1674           1                   4   \n",
       "14             36           2262           1                   2   \n",
       "15             36           2262           1                   0   \n",
       "16             36           1637           1                   2   \n",
       "\n",
       "    LAST_CAREUNIT_cat  future_readmit_cat  \n",
       "3                   1                   0  \n",
       "4                   4                   0  \n",
       "14                  2                   0  \n",
       "15                  0                   1  \n",
       "16                  2                   0  "
      ]
     },
     "execution_count": 38,
     "metadata": {},
     "output_type": "execute_result"
    }
   ],
   "source": [
    "df_new.head()"
   ]
  },
  {
   "cell_type": "code",
   "execution_count": 39,
   "metadata": {},
   "outputs": [
    {
     "name": "stdout",
     "output_type": "stream",
     "text": [
      "Value counts:\n",
      "0    69104\n",
      "1     6084\n",
      "Name: future_readmit_cat, dtype: int64\n"
     ]
    }
   ],
   "source": [
    "print('Value counts:')\n",
    "print(df_new.future_readmit_cat.value_counts())"
   ]
  },
  {
   "cell_type": "markdown",
   "metadata": {},
   "source": [
    "#### This is an imbalanced dataset. Perform upsampling for minor sample (Label = 1)"
   ]
  },
  {
   "cell_type": "code",
   "execution_count": 40,
   "metadata": {},
   "outputs": [],
   "source": [
    "from sklearn.utils import resample\n",
    "df_major = df_new[df_new.future_readmit_cat == 0]\n",
    "df_minor = df_new[df_new.future_readmit_cat == 1]\n",
    "\n",
    "df_minor_upsample  = resample(df_minor, replace = True, \\\n",
    "                              n_samples=69104, random_state = 123)\n",
    "df_up = pd.concat([df_minor_upsample, df_major])"
   ]
  },
  {
   "cell_type": "code",
   "execution_count": 41,
   "metadata": {},
   "outputs": [
    {
     "name": "stdout",
     "output_type": "stream",
     "text": [
      "Value counts:\n",
      "1    69104\n",
      "0    69104\n",
      "Name: future_readmit_cat, dtype: int64\n"
     ]
    }
   ],
   "source": [
    "print('Value counts:')\n",
    "print(df_up.future_readmit_cat.value_counts())"
   ]
  },
  {
   "cell_type": "markdown",
   "metadata": {},
   "source": [
    "### 3-4. Correlation Matrix"
   ]
  },
  {
   "cell_type": "code",
   "execution_count": 42,
   "metadata": {},
   "outputs": [
    {
     "data": {
      "image/png": "[encoded data removed]",
      "text/plain": [
       "<Figure size 720x720 with 2 Axes>"
      ]
     },
     "metadata": {
      "needs_background": "light"
     },
     "output_type": "display_data"
    }
   ],
   "source": [
    "corr = df_up.corr()\n",
    "plt.figure(figsize=(10,10))\n",
    "ax = sns.heatmap(\n",
    "    corr, \n",
    "    vmin=-1, vmax=1, center=0,\n",
    "    cmap=sns.diverging_palette(20, 220, n=200), annot=True,\n",
    "    square=True\n",
    ")\n",
    "ax.set_xticklabels(\n",
    "    ax.get_xticklabels(),\n",
    "    rotation=45,\n",
    "    horizontalalignment='right'\n",
    ");\n",
    "\n"
   ]
  },
  {
   "cell_type": "markdown",
   "metadata": {},
   "source": [
    "FIRST_CAREUNIT and LAST_CAREUNIT are highly correlated and will remove FIRST_CAREUNIT feature"
   ]
  },
  {
   "cell_type": "code",
   "execution_count": 43,
   "metadata": {},
   "outputs": [],
   "source": [
    "X = df_up.iloc[:,0:12]\n",
    "y = df_up.iloc[:,-1]"
   ]
  },
  {
   "cell_type": "code",
   "execution_count": 44,
   "metadata": {},
   "outputs": [],
   "source": [
    "# remove FIRST_CAREUNIT_cat feature\n",
    "X = X.drop(['FIRST_CAREUNIT_cat'], axis =1)"
   ]
  },
  {
   "cell_type": "code",
   "execution_count": 45,
   "metadata": {},
   "outputs": [],
   "source": [
    "# splittin dataset into train and test sets\n",
    "x_tr, x_test, y_tr, y_test = train_test_split(X, y)"
   ]
  },
  {
   "cell_type": "code",
   "execution_count": null,
   "metadata": {},
   "outputs": [],
   "source": []
  },
  {
   "cell_type": "markdown",
   "metadata": {},
   "source": [
    "## 4. Models"
   ]
  },
  {
   "cell_type": "markdown",
   "metadata": {},
   "source": [
    "### 4-1. Logistic Regression"
   ]
  },
  {
   "cell_type": "markdown",
   "metadata": {},
   "source": [
    "As a baseline model, I trained Logsitic regression model."
   ]
  },
  {
   "cell_type": "code",
   "execution_count": 46,
   "metadata": {},
   "outputs": [],
   "source": [
    "lr = LogisticRegression(penalty='l2', C=1)\n",
    "# Fit the model\n",
    "lr.fit(x_tr, y_tr)\n",
    "\n",
    "# probabilities for the target\n",
    "lr_pred_prob = lr.predict_proba(x_test)\n",
    "# prediction\n",
    "lr_pred = lr.predict(x_test)"
   ]
  },
  {
   "cell_type": "markdown",
   "metadata": {},
   "source": [
    "#### Cross Validations"
   ]
  },
  {
   "cell_type": "code",
   "execution_count": 47,
   "metadata": {},
   "outputs": [
    {
     "name": "stderr",
     "output_type": "stream",
     "text": [
      "C:\\ProgramData\\Anaconda3\\lib\\site-packages\\sklearn\\linear_model\\_logistic.py:762: ConvergenceWarning: lbfgs failed to converge (status=1):\n",
      "STOP: TOTAL NO. of ITERATIONS REACHED LIMIT.\n",
      "\n",
      "Increase the number of iterations (max_iter) or scale the data as shown in:\n",
      "    https://scikit-learn.org/stable/modules/preprocessing.html\n",
      "Please also refer to the documentation for alternative solver options:\n",
      "    https://scikit-learn.org/stable/modules/linear_model.html#logistic-regression\n",
      "  n_iter_i = _check_optimize_result(\n",
      "C:\\ProgramData\\Anaconda3\\lib\\site-packages\\sklearn\\linear_model\\_logistic.py:762: ConvergenceWarning: lbfgs failed to converge (status=1):\n",
      "STOP: TOTAL NO. of ITERATIONS REACHED LIMIT.\n",
      "\n",
      "Increase the number of iterations (max_iter) or scale the data as shown in:\n",
      "    https://scikit-learn.org/stable/modules/preprocessing.html\n",
      "Please also refer to the documentation for alternative solver options:\n",
      "    https://scikit-learn.org/stable/modules/linear_model.html#logistic-regression\n",
      "  n_iter_i = _check_optimize_result(\n"
     ]
    },
    {
     "name": "stdout",
     "output_type": "stream",
     "text": [
      "Cross-Validation Accuracy Scores [0.55603791 0.51063599 0.50350915 0.51199305 0.50522774]\n"
     ]
    }
   ],
   "source": [
    "scores = cross_val_score(lr, X, y, scoring='accuracy', cv=5)\n",
    "print('Cross-Validation Accuracy Scores', scores)"
   ]
  },
  {
   "cell_type": "code",
   "execution_count": 48,
   "metadata": {},
   "outputs": [
    {
     "name": "stdout",
     "output_type": "stream",
     "text": [
      "min accuracy:  0.5035091527385862\n",
      "mean accuracy:  0.5174807699934535\n",
      "max accuracy:  0.5560379133203097\n"
     ]
    }
   ],
   "source": [
    "scores = pd.Series(scores)\n",
    "print(\"min accuracy: \", scores.min())\n",
    "print(\"mean accuracy: \", scores.mean())\n",
    "print(\"max accuracy: \", scores.max())"
   ]
  },
  {
   "cell_type": "markdown",
   "metadata": {},
   "source": [
    "#### Accuracy score"
   ]
  },
  {
   "cell_type": "code",
   "execution_count": 49,
   "metadata": {},
   "outputs": [
    {
     "data": {
      "text/plain": [
       "0.5347881454040287"
      ]
     },
     "execution_count": 49,
     "metadata": {},
     "output_type": "execute_result"
    }
   ],
   "source": [
    "# accuracy score\n",
    "accuracy_score(y_test, lr_pred)"
   ]
  },
  {
   "cell_type": "markdown",
   "metadata": {},
   "source": [
    "#### Confusion Matrix"
   ]
  },
  {
   "cell_type": "code",
   "execution_count": 50,
   "metadata": {},
   "outputs": [
    {
     "data": {
      "text/plain": [
       "array([[9119, 8270],\n",
       "       [7804, 9359]], dtype=int64)"
      ]
     },
     "execution_count": 50,
     "metadata": {},
     "output_type": "execute_result"
    }
   ],
   "source": [
    "# confusion matrix\n",
    "confusion = confusion_matrix(y_test, lr_pred)\n",
    "confusion"
   ]
  },
  {
   "cell_type": "markdown",
   "metadata": {},
   "source": [
    "#### Classification Report"
   ]
  },
  {
   "cell_type": "code",
   "execution_count": 51,
   "metadata": {},
   "outputs": [
    {
     "name": "stdout",
     "output_type": "stream",
     "text": [
      "              precision    recall  f1-score   support\n",
      "\n",
      "           0       0.54      0.52      0.53     17389\n",
      "           1       0.53      0.55      0.54     17163\n",
      "\n",
      "    accuracy                           0.53     34552\n",
      "   macro avg       0.53      0.53      0.53     34552\n",
      "weighted avg       0.53      0.53      0.53     34552\n",
      "\n"
     ]
    }
   ],
   "source": [
    "#Classification Report\n",
    "print(classification_report(y_test, lr_pred, target_names=['0', '1']))"
   ]
  },
  {
   "cell_type": "code",
   "execution_count": 52,
   "metadata": {},
   "outputs": [],
   "source": [
    "# calculation for ROC/PR curve => plots are below\n",
    "l_fpr, l_tpr, _ = roc_curve(y_test, lr_pred_prob[:,1], pos_label=1)\n",
    "\n",
    "random_probs = [0 for i in range(len(y_test))]\n",
    "p_fpr, p_tpr, _ = roc_curve(y_test, random_probs, pos_label=1)"
   ]
  },
  {
   "cell_type": "code",
   "execution_count": 53,
   "metadata": {},
   "outputs": [],
   "source": [
    "l_precision, l_recall, _ = precision_recall_curve(y_test, lr_pred_prob[:,1])"
   ]
  },
  {
   "cell_type": "code",
   "execution_count": 54,
   "metadata": {},
   "outputs": [
    {
     "data": {
      "text/plain": [
       "0.5512224001329655"
      ]
     },
     "execution_count": 54,
     "metadata": {},
     "output_type": "execute_result"
    }
   ],
   "source": [
    "AUC = roc_auc_score(y_test, lr_pred_prob[:, 1])\n",
    "AUC"
   ]
  },
  {
   "cell_type": "code",
   "execution_count": null,
   "metadata": {},
   "outputs": [],
   "source": []
  },
  {
   "cell_type": "markdown",
   "metadata": {},
   "source": [
    "### 4-2 Random Forest"
   ]
  },
  {
   "cell_type": "code",
   "execution_count": 55,
   "metadata": {},
   "outputs": [],
   "source": [
    "forest = RandomForestClassifier()"
   ]
  },
  {
   "cell_type": "code",
   "execution_count": 56,
   "metadata": {},
   "outputs": [],
   "source": [
    "#exhaustive grid search is a good way to determine the best hyperparameter values to use\n",
    "\n",
    "n_estimators = [20,25,30, 35]\n",
    "max_depth = [15, 25, 30]\n",
    "min_samples_split = [20,30,50,100]\n",
    "min_samples_leaf = [2,5, 10, 15] \n",
    "\n",
    "hyperPar = dict(n_estimators = n_estimators, max_depth = max_depth,  \n",
    "              min_samples_split = min_samples_split, \n",
    "             min_samples_leaf = min_samples_leaf)"
   ]
  },
  {
   "cell_type": "code",
   "execution_count": 57,
   "metadata": {},
   "outputs": [],
   "source": [
    "# k=5-fold\n",
    "rf_grid = GridSearchCV(forest, hyperPar, cv = 5, verbose = 1, n_jobs = -1)"
   ]
  },
  {
   "cell_type": "code",
   "execution_count": 58,
   "metadata": {},
   "outputs": [
    {
     "name": "stdout",
     "output_type": "stream",
     "text": [
      "Fitting 5 folds for each of 192 candidates, totalling 960 fits\n"
     ]
    },
    {
     "name": "stderr",
     "output_type": "stream",
     "text": [
      "[Parallel(n_jobs=-1)]: Using backend LokyBackend with 8 concurrent workers.\n",
      "[Parallel(n_jobs=-1)]: Done  34 tasks      | elapsed:   36.7s\n",
      "[Parallel(n_jobs=-1)]: Done 184 tasks      | elapsed:  2.7min\n",
      "[Parallel(n_jobs=-1)]: Done 434 tasks      | elapsed:  6.3min\n",
      "[Parallel(n_jobs=-1)]: Done 784 tasks      | elapsed: 11.4min\n",
      "[Parallel(n_jobs=-1)]: Done 960 out of 960 | elapsed: 14.0min finished\n"
     ]
    }
   ],
   "source": [
    "rf_best = rf_grid.fit(x_tr, y_tr)"
   ]
  },
  {
   "cell_type": "code",
   "execution_count": 59,
   "metadata": {},
   "outputs": [
    {
     "data": {
      "text/plain": [
       "{'max_depth': 30,\n",
       " 'min_samples_leaf': 2,\n",
       " 'min_samples_split': 20,\n",
       " 'n_estimators': 35}"
      ]
     },
     "execution_count": 59,
     "metadata": {},
     "output_type": "execute_result"
    }
   ],
   "source": [
    "# find optimal hyper-parameters\n",
    "rf_best.best_params_"
   ]
  },
  {
   "cell_type": "code",
   "execution_count": 60,
   "metadata": {},
   "outputs": [
    {
     "data": {
      "text/plain": [
       "RandomForestClassifier(max_depth=30, min_samples_leaf=2, min_samples_split=20,\n",
       "                       n_estimators=35, random_state=1)"
      ]
     },
     "execution_count": 60,
     "metadata": {},
     "output_type": "execute_result"
    }
   ],
   "source": [
    "# fitting with optimal hyperparameters\n",
    "rf_opt = RandomForestClassifier(random_state = 1, max_depth = 30,\\\n",
    "                                   n_estimators = 35, min_samples_split = 20, min_samples_leaf = 2)\n",
    "rf_opt.fit(x_tr, y_tr)"
   ]
  },
  {
   "cell_type": "code",
   "execution_count": 61,
   "metadata": {},
   "outputs": [],
   "source": [
    "# prediction\n",
    "rf_pred = rf_opt.predict(x_test)"
   ]
  },
  {
   "cell_type": "code",
   "execution_count": 62,
   "metadata": {},
   "outputs": [],
   "source": [
    "# probabilities for the target\n",
    "rf_pred_prob = rf_opt.predict_proba(x_test)"
   ]
  },
  {
   "cell_type": "markdown",
   "metadata": {},
   "source": [
    "#### Crosss Validation"
   ]
  },
  {
   "cell_type": "code",
   "execution_count": 63,
   "metadata": {},
   "outputs": [
    {
     "name": "stdout",
     "output_type": "stream",
     "text": [
      "Cross-Validation Accuracy Scores [0.82355779 0.82239159 0.8230669  0.81862911 0.82634702]\n"
     ]
    }
   ],
   "source": [
    "scores_r = cross_val_score(rf_opt, x_tr, y_tr, scoring='accuracy', cv=5)\n",
    "print('Cross-Validation Accuracy Scores', scores_r)"
   ]
  },
  {
   "cell_type": "code",
   "execution_count": 64,
   "metadata": {},
   "outputs": [
    {
     "name": "stdout",
     "output_type": "stream",
     "text": [
      "min accuracy:  0.8186291061695046\n",
      "mean accuracy:  0.8227984799789198\n",
      "max accuracy:  0.8263470165452703\n"
     ]
    }
   ],
   "source": [
    "rfscores = pd.Series(scores_r)\n",
    "print(\"min accuracy: \", rfscores.min())\n",
    "print(\"mean accuracy: \", rfscores.mean())\n",
    "print(\"max accuracy: \", rfscores.max())"
   ]
  },
  {
   "cell_type": "markdown",
   "metadata": {},
   "source": [
    "#### Accuracy score"
   ]
  },
  {
   "cell_type": "code",
   "execution_count": 65,
   "metadata": {},
   "outputs": [
    {
     "data": {
      "text/plain": [
       "0.8437717064135216"
      ]
     },
     "execution_count": 65,
     "metadata": {},
     "output_type": "execute_result"
    }
   ],
   "source": [
    "# accuracy score\n",
    "accuracy_score(y_test, rf_pred)"
   ]
  },
  {
   "cell_type": "markdown",
   "metadata": {},
   "source": [
    "#### Confusion Matrix"
   ]
  },
  {
   "cell_type": "code",
   "execution_count": 66,
   "metadata": {},
   "outputs": [
    {
     "data": {
      "text/plain": [
       "array([[13447,  3942],\n",
       "       [ 1456, 15707]], dtype=int64)"
      ]
     },
     "execution_count": 66,
     "metadata": {},
     "output_type": "execute_result"
    }
   ],
   "source": [
    "# confusion matrix\n",
    "confusion = confusion_matrix(y_test, rf_pred)\n",
    "confusion"
   ]
  },
  {
   "cell_type": "markdown",
   "metadata": {},
   "source": [
    "#### Classification Report"
   ]
  },
  {
   "cell_type": "code",
   "execution_count": 67,
   "metadata": {},
   "outputs": [
    {
     "name": "stdout",
     "output_type": "stream",
     "text": [
      "              precision    recall  f1-score   support\n",
      "\n",
      "           0       0.90      0.77      0.83     17389\n",
      "           1       0.80      0.92      0.85     17163\n",
      "\n",
      "    accuracy                           0.84     34552\n",
      "   macro avg       0.85      0.84      0.84     34552\n",
      "weighted avg       0.85      0.84      0.84     34552\n",
      "\n"
     ]
    }
   ],
   "source": [
    "print(classification_report(y_test, rf_pred, target_names=['0', '1']))"
   ]
  },
  {
   "cell_type": "markdown",
   "metadata": {},
   "source": [
    "#### Variable Importance"
   ]
  },
  {
   "cell_type": "code",
   "execution_count": 68,
   "metadata": {},
   "outputs": [
    {
     "data": {
      "text/plain": [
       "Text(0.5, 1.0, 'Feature Importance')"
      ]
     },
     "execution_count": 68,
     "metadata": {},
     "output_type": "execute_result"
    },
    {
     "data": {
      "image/png": "[encoded data removed]",
      "text/plain": [
       "<Figure size 432x288 with 1 Axes>"
      ]
     },
     "metadata": {
      "needs_background": "light"
     },
     "output_type": "display_data"
    }
   ],
   "source": [
    "import matplotlib.pyplot as plt\n",
    "plt.barh(x_tr.columns, rf_opt.feature_importances_)\n",
    "plt.title('Feature Importance')"
   ]
  },
  {
   "cell_type": "markdown",
   "metadata": {},
   "source": [
    "DIAGNOSIS feature is most important for the accuracy of model ad DISCHARGE_LOCATION is also important."
   ]
  },
  {
   "cell_type": "code",
   "execution_count": 69,
   "metadata": {},
   "outputs": [
    {
     "data": {
      "text/plain": [
       "0.910673971779557"
      ]
     },
     "execution_count": 69,
     "metadata": {},
     "output_type": "execute_result"
    }
   ],
   "source": [
    "# RF ROC AUC calculation\n",
    "AUC = roc_auc_score(y_test, rf_pred_prob[:, 1])\n",
    "AUC"
   ]
  },
  {
   "cell_type": "markdown",
   "metadata": {},
   "source": [
    "### 4-3. Model Comparison Logistic Regression vs Random Forest"
   ]
  },
  {
   "cell_type": "markdown",
   "metadata": {},
   "source": [
    "### ROC curve (receiver operating characteristic curve)"
   ]
  },
  {
   "cell_type": "code",
   "execution_count": 70,
   "metadata": {},
   "outputs": [
    {
     "data": {
      "image/png": "[encoded data removed]",
      "text/plain": [
       "<Figure size 576x396 with 1 Axes>"
      ]
     },
     "metadata": {},
     "output_type": "display_data"
    }
   ],
   "source": [
    "fpr, tpr, _ = roc_curve(y_test, rf_pred_prob[:,1], pos_label=1)\n",
    "\n",
    "plt.style.use('seaborn')\n",
    "\n",
    "# plot roc curves\n",
    "plt.plot(fpr, tpr, linestyle='--',color='blue', label=f'Random Forest (AUC={auc(fpr, tpr):.4f})')\n",
    "plt.plot(l_fpr, l_tpr, linestyle='--',color='orange', label=f'Logistic Regression (AUC={auc(l_fpr, l_tpr):.4f})')\n",
    "plt.plot(p_fpr, p_tpr, linestyle='--', color='red', label = 'random selection')\n",
    "plt.title('ROC Curve (RF vs LR)')\n",
    "plt.xlabel('False Positive Rate')\n",
    "plt.ylabel('True Positive rate')\n",
    "plt.legend(loc='best')\n",
    "plt.show();\n"
   ]
  },
  {
   "cell_type": "markdown",
   "metadata": {},
   "source": [
    "### PR Curve (Precision-Recall curves)"
   ]
  },
  {
   "cell_type": "code",
   "execution_count": 71,
   "metadata": {},
   "outputs": [
    {
     "data": {
      "image/png": "[encoded data removed]",
      "text/plain": [
       "<Figure size 576x396 with 1 Axes>"
      ]
     },
     "metadata": {},
     "output_type": "display_data"
    }
   ],
   "source": [
    "precision, recall, thresholds = precision_recall_curve(y_test, rf_pred_prob[:,1])\n",
    "# plot pr curves\n",
    "plt.plot(recall, precision, linestyle='--',color='blue', label=f'Random Froest(AUC={auc(recall, precision):.4f})')\n",
    "plt.plot(l_recall, l_precision, linestyle='--',color='orange', label=f'Logistic Regression(AUC={auc(l_recall, l_precision):.4f})')\n",
    "plt.title('Precision-Recall Curve (RF vs LR)')\n",
    "plt.xlabel('Recall')\n",
    "plt.ylabel('Precision')\n",
    "plt.legend(loc='best')\n",
    "plt.show();"
   ]
  },
  {
   "cell_type": "markdown",
   "metadata": {},
   "source": [
    "## 5. Conclusion"
   ]
  },
  {
   "cell_type": "markdown",
   "metadata": {},
   "source": [
    "In this project, I tried to predict 30-day readmission with two machine learning models, Logistic Regression and Random Forest.\n",
    "From the evaluation metrics that accuracy, recall, precision, ROC curve, PR curve, etc., I could see that overall performance of Random Forest outperforms Logistic Regression model. Dataset which is used in this project consists of mostly categorical features. I could see that Random Forest works better when dataset consists of categorical features and Logistic Regression model works poorly in this case.\n",
    "As future works, we can use or combine other datasets to imporve the performance and try deep-learning model."
   ]
  },
  {
   "cell_type": "markdown",
   "metadata": {},
   "source": [
    "### References"
   ]
  },
  {
   "cell_type": "markdown",
   "metadata": {},
   "source": [
    "1. https://www.cms.gov/medicare/medicare-fee-for-service-payment/acuteinpatientpps/readmissions-reduction-program\n",
    "2. https://www.kff.org/medicare/issue-brief/aiming-for-fewer-hospital-u-turns-the-medicare-hospital-readmission-reduction-program/\n"
   ]
  },
  {
   "cell_type": "code",
   "execution_count": null,
   "metadata": {},
   "outputs": [],
   "source": []
  }
 ],
 "metadata": {
  "kernelspec": {
   "display_name": "Python 3",
   "language": "python",
   "name": "python3"
  },
  "language_info": {
   "codemirror_mode": {
    "name": "ipython",
    "version": 3
   },
   "file_extension": ".py",
   "mimetype": "text/x-python",
   "name": "python",
   "nbconvert_exporter": "python",
   "pygments_lexer": "ipython3",
   "version": "3.8.5"
  }
 },
 "nbformat": 4,
 "nbformat_minor": 4
}
